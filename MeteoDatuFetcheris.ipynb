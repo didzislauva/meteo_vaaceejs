{
 "cells": [
  {
   "cell_type": "markdown",
   "metadata": {},
   "source": [
    "### Staciju ID\n",
    "30000  :  Ainaži \n",
    "\n",
    "30004  :  Alūksne \n",
    "\n",
    "30011  :  Bauska \n",
    "\n",
    "10000120  :  Dagda \n",
    "\n",
    "30018  :  Dagda \n",
    "\n",
    "30021  :  Daugavpils \n",
    "\n",
    "30022  :  Dobele \n",
    "\n",
    "30034  :  Gulbene \n",
    "\n",
    "30036  :  Jelgava \n",
    "\n",
    "30040  :  Kalnciems \n",
    "\n",
    "30046  :  Kolka \n",
    "\n",
    "30048  :  Kuldīga \n",
    "\n",
    "30058  :  Lielpeči \n",
    "\n",
    "30060  :  Liepāja \n",
    "\n",
    "10000118  :  Liepāja piekraste \n",
    "\n",
    "30068  :  Madona \n",
    "\n",
    "30072  :  Mērsrags \n",
    "\n",
    "30081  :  Piedruja \n",
    "\n",
    "30087  :  Priekuļi \n",
    "\n",
    "30080  :  Pāvilosta \n",
    "\n",
    "30099  :  Rucava \n",
    "\n",
    "10000180  :  Rēzekne \n",
    "\n",
    "30092  :  Rēzekne \n",
    "\n",
    "30094  :  Rīga \n",
    "\n",
    "30096  :  Rīga - Universitāte \n",
    "\n",
    "30100  :  Rūjiena \n",
    "\n",
    "30102  :  Saldus \n",
    "\n",
    "30103  :  Sigulda \n",
    "\n",
    "30105  :  Skrīveri \n",
    "\n",
    "30106  :  Skulte \n",
    "\n",
    "30111  :  Stende \n",
    "\n",
    "30104  :  Sīļi \n",
    "\n",
    "30128  :  Ventspils \n",
    "\n",
    "30132  :  Vičaki \n",
    "\n",
    "30141  :  Zosēni \n",
    "\n",
    "30140  :  Zīlāni\n",
    "\n",
    "\n",
    "### parametru ID\n",
    "4514  :  Aramkārtas temperatūra 10 cm dziļumā, faktiskā \n",
    "\n",
    "4515  :  Aramkārtas temperatūra 15 cm dziļumā, faktiskā \n",
    "\n",
    "4516  :  Aramkārtas temperatūra 20 cm dziļumā, faktiskā \n",
    "\n",
    "4513  :  Aramkārtas temperatūra 5 cm dziļumā, faktiskā \n",
    "\n",
    "4167  :  Atmosfēras spiediens stacijas līmenī, faktiskais \n",
    "\n",
    "4457  :  Augsnes virsmas stāvoklis \n",
    "\n",
    "4459  :  Augsnes virsmas temperatūra, faktiskā \n",
    "\n",
    "4464  :  Augsnes virsmas temperatūra, stundas maksimālā \n",
    "\n",
    "4462  :  Augsnes virsmas temperatūra, stundas minimālā \n",
    "\n",
    "4327  :  Augšējo mākoņu forma \n",
    "\n",
    "**4001  :  Gaisa temperatūra, faktiskā **\n",
    "\n",
    "4008  :  Gaisa temperatūra, maksimālā iepriekšējo 3 stundu laikā \n",
    "\n",
    "4003  :  Gaisa temperatūra, minimālā iepriekšējo 3 stundu laikā \n",
    "\n",
    "4006  :  Gaisa temperatūra, stundas maksimālā \n",
    "\n",
    "4004  :  Gaisa temperatūra, stundas minimālā \n",
    "\n",
    "4002  :  Gaisa temperatūra, stundas vidējā \n",
    "\n",
    "4321  :  Kopējais mākoņu daudzums \n",
    "\n",
    "10307  :  Laika apstakļi 1. kods pēdējā 1 stundā;A \n",
    "\n",
    "10308  :  Laika apstakļi 2. kods pēdējā 1 stundā;A \n",
    "\n",
    "10306  :  Laika apstakļi, faktiskie;A \n",
    "\n",
    "4627  :  Laika apstākļi novērojumu termiņā \n",
    "\n",
    "4676  :  Meteoroloģiskā redzamība \n",
    "\n",
    "9954  :  Meteoroloģiskā redzamība faktiskā \n",
    "\n",
    "4674  :  Meteoroloģiskā redzamība, stundas maksimālā \n",
    "\n",
    "4672  :  Meteoroloģiskā redzamība, stundas minimālā \n",
    "\n",
    "4494  :  Minimālā temperatūra zāles augstumā \n",
    "\n",
    "4323  :  Mākoņu augstums \n",
    "\n",
    "10193  :  Mākoņu augstums 1 \n",
    "\n",
    "10194  :  Mākoņu augstums 2 \n",
    "\n",
    "10195  :  Mākoņu augstums 3 \n",
    "\n",
    "10196  :  Mākoņu daudzums 1 \n",
    "\n",
    "10197  :  Mākoņu daudzums 2 \n",
    "\n",
    "10198  :  Mākoņu daudzums 3 \n",
    "\n",
    "9536  :  Nokrišņu daudzums 10 minūšu laika intervālā \n",
    "\n",
    "4568  :  Nokrišņu daudzums starp termiņiem \n",
    "\n",
    "**4570  :  Nokrišņu daudzums, stundas summa **\n",
    "\n",
    "4628  :  Pagājušie laika apstākļi 1 \n",
    "\n",
    "4629  :  Pagājušie laika apstākļi 2 \n",
    "\n",
    "4224  :  Piekrastes vēja brāzmas, stundas maksimālās \n",
    "\n",
    "4317  :  Piekrastes vēja virziens, faktiskais \n",
    "\n",
    "4220  :  Piekrastes vēja ātrums, faktiskais \n",
    "\n",
    "4223  :  Piekrastes vēja ātrums, stundas minimālās \n",
    "\n",
    "4670  :  Redzamība jūras virzienā \n",
    "\n",
    "4080  :  Relatīvais mitrums, faktiskais \n",
    "\n",
    "4084  :  Relatīvais mitrums, stundas maksimālais \n",
    "\n",
    "4082  :  Relatīvais mitrums, stundas minimālais \n",
    "\n",
    "4606  :  Saules spīdēšanas ilgums, stundas summa \n",
    "\n",
    "4342  :  Sniega segas biezums \n",
    "\n",
    "4341  :  Sniega segas biezums, stundas vidējais \n",
    "\n",
    "4343  :  Sniega segas biezums, termiņā 18 \n",
    "\n",
    "4344  :  Sniega segas seguma pakāpe stacijas apkārtnē \n",
    "\n",
    "4530  :  Summārā radiācija, stundas maksimālā \n",
    "\n",
    "4528  :  Summārā radiācija, stundas minimālā \n",
    "\n",
    "4527  :  Summārā radiācija, stundas vidējā \n",
    "\n",
    "10188  :  Temperatūra zem dabiskās veģetācijas virsmas 0.1 m dziļumā, faktiskā \n",
    "\n",
    "4495  :  Temperatūra zem dabiskās veģetācijas virsmas 0.2 m dziļumā, faktiskā \n",
    "\n",
    "4496  :  Temperatūra zem dabiskās veģetācijas virsmas 0.4 m dziļumā, faktiskā \n",
    "\n",
    "4497  :  Temperatūra zem dabiskās veģetācijas virsmas 0.8 m dziļumā, faktiskā termiņā 12 \n",
    "\n",
    "10253  :  Temperatūra zem dabiskās veģetācijas virsmas 1.6 m dziļuma, faktiskā \n",
    "\n",
    "4499  :  Temperatūra zem dabiskās veģetācijas virsmas 1.6 m dziļumā, faktiskā termiņā 12 \n",
    "\n",
    "4500  :  Temperatūra zem dabiskās veģetācijas virsmas 3.2 m dziļumā, faktiskā termiņā 12 \n",
    "\n",
    "9880  :  Temperatūra zāles augstumā, faktiskā \n",
    "\n",
    "9883  :  Temperatūra zāles augstumā, stundas maksimālā \n",
    "\n",
    "9881  :  Temperatūra zāles augstumā, stundas minimālā \n",
    "\n",
    "9884  :  Temperatūra zāles augstumā, stundas vidējā \n",
    "\n",
    "10254  :  Temperatūras zem dabiskās veģetācijas virsmas 3.2 m dziļuma, faktiskā \n",
    "\n",
    "10252  :  Temperatūta zem dabiskās veģetācijas virsmas 0.8 m dziļuma, faktiskā \n",
    "\n",
    "4544  :  Ultravioletā radiācija, stundas maksimālā \n",
    "\n",
    "4542  :  Ultravioletā radiācija, stundas minimālā \n",
    "\n",
    "4541  :  Ultravioletā radiācija, stundas vidējā \n",
    "\n",
    "4330  :  Vidējo mākoņu forma \n",
    "\n",
    "4212  :  Vēja brāzmas, maksimālās starp termiņiem \n",
    "\n",
    "4218  :  Vēja brāzmas, stundas maksimālās \n",
    "\n",
    "10208  :  Vēja virziens, faktiskais (10 minūšu vidējais) \n",
    "\n",
    "4313  :  Vēja virziens, faktiskais (2 minūšu vidējais) \n",
    "\n",
    "4211  :  Vēja ātrums, faktiskais \n",
    "\n",
    "4216  :  Vēja ātrums, stundas minimālais \n",
    "\n",
    "4322  :  Zemo mākoņu daudzums \n",
    "\n",
    "4324  :  Zemo mākoņu forma "
   ]
  },
  {
   "cell_type": "code",
   "execution_count": 1,
   "metadata": {},
   "outputs": [],
   "source": [
    "import requests as reqs"
   ]
  },
  {
   "cell_type": "code",
   "execution_count": 2,
   "metadata": {},
   "outputs": [
    {
     "data": {
      "text/plain": [
       "'2E612FF97C97FEE516458463509BCF28'"
      ]
     },
     "execution_count": 2,
     "metadata": {},
     "output_type": "execute_result"
    }
   ],
   "source": [
    "sc=\"https://www.meteo.lv/josso_security_check\"\n",
    "sec_check=reqs.post(sc)\n",
    "cookies=sec_check.cookies.get_dict()\n",
    "cookies[\"JSESSIONID\"]"
   ]
  },
  {
   "cell_type": "code",
   "execution_count": 3,
   "metadata": {},
   "outputs": [
    {
     "data": {
      "text/plain": [
       "'https://www.meteo.lv/meteorologija-datu-meklesana/?'"
      ]
     },
     "execution_count": 3,
     "metadata": {},
     "output_type": "execute_result"
    }
   ],
   "source": [
    "url=\"https://www.meteo.lv/meteorologija-datu-meklesana/?\"\n",
    "url"
   ]
  },
  {
   "cell_type": "code",
   "execution_count": 4,
   "metadata": {},
   "outputs": [
    {
     "data": {
      "text/plain": [
       "{'Content-Type': 'application/x-www-form-urlencoded',\n",
       " 'User-Agent': 'Mozilla/5.0 (Windows NT 10.0; Win64; x64) AppleWebKit/537.36 (KHTML, like Gecko) Chrome/87.0.4280.141 Safari/537.36',\n",
       " 'Accept': 'text/html,application/xhtml+xml,application/xml;q=0.9,image/avif,image/webp,image/apng,*/*;q=0.8,application/signed-exchange;v=b3;q=0.9',\n",
       " 'Referer': 'https://www.meteo.lv/meteorologija-datu-meklesana/?nid=461',\n",
       " 'Cookie': 'JSESSIONID=03F50652A5F6ACFC8178F33E2C80F328'}"
      ]
     },
     "execution_count": 4,
     "metadata": {},
     "output_type": "execute_result"
    }
   ],
   "source": [
    "headers={\n",
    "\"Content-Type\":\"application/x-www-form-urlencoded\",\n",
    "\"User-Agent\": \"Mozilla/5.0 (Windows NT 10.0; Win64; x64) AppleWebKit/537.36 (KHTML, like Gecko) Chrome/87.0.4280.141 Safari/537.36\",\n",
    "\"Accept\": \"text/html,application/xhtml+xml,application/xml;q=0.9,image/avif,image/webp,image/apng,*/*;q=0.8,application/signed-exchange;v=b3;q=0.9\",\n",
    "\"Referer\": \"https://www.meteo.lv/meteorologija-datu-meklesana/?nid=461\",\n",
    "\"Cookie\": \"JSESSIONID=03F50652A5F6ACFC8178F33E2C80F328\"\n",
    "}\n",
    "headers"
   ]
  },
  {
   "cell_type": "code",
   "execution_count": 6,
   "metadata": {
    "scrolled": true
   },
   "outputs": [],
   "source": [
    "import json\n",
    "saraksts=reqs.get(\"https://www.meteo.lv/klasifikatoru-filtrs/?iBy=station&iStation=&iParameter=4001&pMonitoringType=METEOROLOGY\")\n",
    "saraksts= json.loads(saraksts.text)\n",
    "\n"
   ]
  },
  {
   "cell_type": "code",
   "execution_count": 8,
   "metadata": {
    "scrolled": true
   },
   "outputs": [],
   "source": [
    "stacijuSaraksts={}\n",
    "for each in saraksts[\"stations\"][1:]:\n",
    "    stacijuSaraksts[each[\"id\"]]=each[\"name\"]\n"
   ]
  },
  {
   "cell_type": "code",
   "execution_count": 9,
   "metadata": {},
   "outputs": [],
   "source": [
    "parametruSaraksts={}\n",
    "for each in saraksts[\"parameters\"][1:]:\n",
    "    parametruSaraksts[each[\"id\"]]=each[\"name\"]\n"
   ]
  },
  {
   "cell_type": "code",
   "execution_count": 10,
   "metadata": {},
   "outputs": [
    {
     "name": "stdout",
     "output_type": "stream",
     "text": [
      "Jelgava_Gaisa temperatūra, faktiskā_01.01.1966-31.12.1966.xls\n"
     ]
    },
    {
     "name": "stderr",
     "output_type": "stream",
     "text": [
      "C:\\Users\\didzi\\anaconda3\\lib\\site-packages\\urllib3\\connectionpool.py:979: InsecureRequestWarning: Unverified HTTPS request is being made to host 'www.meteo.lv'. Adding certificate verification is strongly advised. See: https://urllib3.readthedocs.io/en/latest/advanced-usage.html#ssl-warnings\n",
      "  warnings.warn(\n"
     ]
    },
    {
     "name": "stdout",
     "output_type": "stream",
     "text": [
      "Jelgava_Gaisa temperatūra, faktiskā_01.01.1967-31.12.1967.xls\n"
     ]
    },
    {
     "name": "stderr",
     "output_type": "stream",
     "text": [
      "C:\\Users\\didzi\\anaconda3\\lib\\site-packages\\urllib3\\connectionpool.py:979: InsecureRequestWarning: Unverified HTTPS request is being made to host 'www.meteo.lv'. Adding certificate verification is strongly advised. See: https://urllib3.readthedocs.io/en/latest/advanced-usage.html#ssl-warnings\n",
      "  warnings.warn(\n"
     ]
    }
   ],
   "source": [
    "####\n",
    "stationID=30036\n",
    "paramID=4001\n",
    "startYear=1966\n",
    "endYear=1967\n",
    "####\n",
    "\n",
    "\n",
    "for year in range(startYear,endYear+1):\n",
    "    StartDate=\"01.01.\"+str(year)\n",
    "    EndDate=\"31.12.\"+str(year)\n",
    "    params=\"iBy=station&nid=461&pMonitoringType=METEOROLOGY&iStation=\"+str(stationID)+\"&iParameter=\"+str(paramID)+\"&iDateFrom=\"+StartDate+\"&iDateTill=\"+EndDate\n",
    "    fname=stacijuSaraksts[str(stationID)]+\"_\" \\\n",
    "    +parametruSaraksts[str(paramID)] + \"_\" \\\n",
    "    +StartDate+\"-\" \\\n",
    "    +EndDate+\".xls\"\n",
    "    print(fname)\n",
    "    \n",
    "    result=reqs.post(url,verify=False,data=params, headers=headers)\n",
    "    with open(fname, 'wb') as f:\n",
    "        f.write(result.content)\n"
   ]
  },
  {
   "cell_type": "code",
   "execution_count": null,
   "metadata": {},
   "outputs": [],
   "source": [
    "import pandas as pd"
   ]
  },
  {
   "cell_type": "code",
   "execution_count": null,
   "metadata": {},
   "outputs": [],
   "source": [
    "####\n",
    "stationID=30022\n",
    "paramID=4001\n",
    "startYear=1966\n",
    "endYear=2020\n",
    "####\n",
    "\n",
    "df=[]\n",
    "\n",
    "for enum, year in enumerate(range(startYear,endYear+1)):\n",
    "    StartDate=\"01.01.\"+str(year)\n",
    "    EndDate=\"31.12.\"+str(year)\n",
    "    params=\"iBy=station&nid=461&pMonitoringType=METEOROLOGY&iStation=\"+str(stationID)+\"&iParameter=\"+str(paramID)+\"&iDateFrom=\"+StartDate+\"&iDateTill=\"+EndDate\n",
    "    fname=stacijuSaraksts[str(stationID)]+\"_\" \\\n",
    "    +parametruSaraksts[str(paramID)] + \"_\" \\\n",
    "    +StartDate+\"-\" \\\n",
    "    +EndDate+\".xls\"\n",
    "    #df[enum]=pd.read_excel(fname)\n",
    "    df.append(pd.read_excel(fname,skiprows=1,parse_dates=[\"Datums \\ Laiks\"],index_col=0,dayfirst=True))\n",
    "    df[enum][\"Dienas vidējā T\"]=df[enum].mean(axis=1)\n",
    "    \n"
   ]
  },
  {
   "cell_type": "code",
   "execution_count": null,
   "metadata": {},
   "outputs": [],
   "source": [
    "dataf=pd.concat(df)"
   ]
  },
  {
   "cell_type": "code",
   "execution_count": null,
   "metadata": {},
   "outputs": [],
   "source": [
    "dataf"
   ]
  },
  {
   "cell_type": "code",
   "execution_count": null,
   "metadata": {},
   "outputs": [],
   "source": [
    "dataf=dataf[[\"Dienas vidējā T\"]]"
   ]
  },
  {
   "cell_type": "code",
   "execution_count": null,
   "metadata": {},
   "outputs": [],
   "source": [
    "dataf.to_excel(\"Dobele vidējā T.xls\")"
   ]
  },
  {
   "cell_type": "code",
   "execution_count": null,
   "metadata": {},
   "outputs": [],
   "source": []
  }
 ],
 "metadata": {
  "kernelspec": {
   "display_name": "Python 3",
   "language": "python",
   "name": "python3"
  },
  "language_info": {
   "codemirror_mode": {
    "name": "ipython",
    "version": 3
   },
   "file_extension": ".py",
   "mimetype": "text/x-python",
   "name": "python",
   "nbconvert_exporter": "python",
   "pygments_lexer": "ipython3",
   "version": "3.8.3"
  }
 },
 "nbformat": 4,
 "nbformat_minor": 4
}
